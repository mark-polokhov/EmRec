{
 "cells": [
  {
   "cell_type": "code",
   "execution_count": 1,
   "metadata": {},
   "outputs": [],
   "source": [
    "%load_ext autoreload\n",
    "%autoreload 2"
   ]
  },
  {
   "cell_type": "code",
   "execution_count": 2,
   "metadata": {},
   "outputs": [],
   "source": [
    "from dataset import MultiDataset\n",
    "import torch\n",
    "import argparse"
   ]
  },
  {
   "cell_type": "code",
   "execution_count": 1,
   "metadata": {
    "metadata": {}
   },
   "outputs": [
    {
     "name": "stdout",
     "output_type": "stream",
     "text": [
      "^C\n"
     ]
    }
   ],
   "source": [
    "! python EmRec.py --train"
   ]
  },
  {
   "cell_type": "code",
   "execution_count": 3,
   "metadata": {},
   "outputs": [],
   "source": [
    "device = 'cuda' if torch.cuda.is_available() else 'cpu'"
   ]
  },
  {
   "cell_type": "code",
   "execution_count": 4,
   "metadata": {},
   "outputs": [
    {
     "data": {
      "text/plain": [
       "'cuda'"
      ]
     },
     "execution_count": 4,
     "metadata": {},
     "output_type": "execute_result"
    }
   ],
   "source": [
    "device"
   ]
  },
  {
   "cell_type": "code",
   "execution_count": 5,
   "metadata": {},
   "outputs": [
    {
     "data": {
      "text/plain": [
       "'NVIDIA GeForce GTX 1050 Ti'"
      ]
     },
     "execution_count": 5,
     "metadata": {},
     "output_type": "execute_result"
    }
   ],
   "source": [
    "torch.cuda.get_device_name(0)"
   ]
  },
  {
   "cell_type": "code",
   "execution_count": 11,
   "metadata": {},
   "outputs": [
    {
     "data": {
      "text/plain": [
       "'2024_02_26_15_09_e9_checkpoint_last.pt'"
      ]
     },
     "execution_count": 11,
     "metadata": {},
     "output_type": "execute_result"
    }
   ],
   "source": [
    "import os\n",
    "\n",
    "[checkpoint for checkpoint in os.listdir('./checkpoint/') if checkpoint.endswith('checkpoint_last.pt')]"
   ]
  },
  {
   "cell_type": "code",
   "execution_count": 40,
   "metadata": {},
   "outputs": [],
   "source": [
    "ch = '20240226_e4_checkpoint_last.pt'"
   ]
  },
  {
   "cell_type": "code",
   "execution_count": 41,
   "metadata": {},
   "outputs": [
    {
     "data": {
      "text/plain": [
       "'4'"
      ]
     },
     "execution_count": 41,
     "metadata": {},
     "output_type": "execute_result"
    }
   ],
   "source": [
    "import re\n",
    "\n",
    "re.findall(r'_e\\d+_', ch)[0][2:-1]"
   ]
  },
  {
   "cell_type": "code",
   "execution_count": 2,
   "metadata": {},
   "outputs": [
    {
     "data": {
      "image/jpeg": "[encoded data removed]",
      "image/png": "[encoded data removed]",
      "text/plain": [
       "<PIL.Image.Image image mode=RGB size=48x48>"
      ]
     },
     "execution_count": 2,
     "metadata": {},
     "output_type": "execute_result"
    }
   ],
   "source": [
    "from PIL import Image\n",
    "Image.open('./dataset/fer2013/happy/PrivateTest_218533.jpg').convert('RGB')"
   ]
  },
  {
   "cell_type": "code",
   "execution_count": 3,
   "metadata": {},
   "outputs": [
    {
     "data": {
      "text/plain": [
       "Linear(in_features=4096, out_features=1000, bias=True)"
      ]
     },
     "execution_count": 3,
     "metadata": {},
     "output_type": "execute_result"
    }
   ],
   "source": [
    "import torch.nn as nn\n",
    "from torchvision.models import vgg11, VGG11_Weights\n",
    "\n",
    "layers = vgg11(weights=VGG11_Weights.IMAGENET1K_V1)\n",
    "layers.classifier[6] = nn.Linear(in_features=4096, out_features=128)"
   ]
  },
  {
   "cell_type": "code",
   "execution_count": 14,
   "metadata": {},
   "outputs": [],
   "source": [
    "def great_ruler(battles: list) -> bool:\n",
    "    outcomes = [battle[1] for battle in battles]\n",
    "    return 'поражение' not in outcomes"
   ]
  },
  {
   "cell_type": "code",
   "execution_count": 16,
   "metadata": {},
   "outputs": [
    {
     "data": {
      "text/plain": [
       "False"
      ]
     },
     "execution_count": 16,
     "metadata": {},
     "output_type": "execute_result"
    }
   ],
   "source": [
    "greate_ruler([ \n",
    "    (1382, 'победа'),  \n",
    "    (1390, 'поражение'),  \n",
    "    (1391, 'победа') \n",
    "])"
   ]
  },
  {
   "cell_type": "code",
   "execution_count": 24,
   "metadata": {},
   "outputs": [
    {
     "name": "stdout",
     "output_type": "stream",
     "text": [
      "['a', 'c']\n"
     ]
    }
   ],
   "source": [
    "good = input().split(', ')\n",
    "skidka = input().split(', ')\n",
    "recomended = input().split(', ')\n",
    "\n",
    "print(\n",
    "    sorted(set(sorted(set(sorted(good)) & set(sorted(recomended)))) - set(sorted(skidka)))\n",
    ")"
   ]
  },
  {
   "cell_type": "code",
   "execution_count": null,
   "metadata": {},
   "outputs": [],
   "source": [
    "pallete_size = int(input())\n",
    "goods = input().split(ВСТАВЬ СЮДА СПЛИТ)\n",
    "goods_size = 0\n",
    "counter = 0\n",
    "for good in goods:\n",
    "    name, size = good.split(ВСТАВЬ СЮДА СПЛИТ)\n",
    "    goods_size += int(size)\n",
    "    if goods_size > pallete_size:\n",
    "        print(counter)\n",
    "        break\n",
    "    counter += 1\n",
    "\n",
    "\n",
    "Вроде так, но я плохо вижу"
   ]
  },
  {
   "cell_type": "code",
   "execution_count": null,
   "metadata": {},
   "outputs": [],
   "source": [
    "most_profitable_name = ''\n",
    "most_profitable_value = 0\n",
    "for i in range(3):\n",
    "    year, companies = input().split('| ')\n",
    "    for comp in companies.split(', '):\n",
    "        name, value = comp.split(': ')\n",
    "        if int(value) > most_profitable_value:\n",
    "            most_profitable_name = name\n",
    "            most_profitable_value = int(value)\n",
    "\n",
    "print(most_profitable_name)"
   ]
  },
  {
   "cell_type": "code",
   "execution_count": null,
   "metadata": {},
   "outputs": [],
   "source": [
    "#   я не уверен про второй аргумент и в каком они порядке\n",
    "def get_data(income_dict, target):\n",
    "    fits = []\n",
    "    for name, income in income_dict.items():\n",
    "        if sum(income) < target: # или <= я не увидел\n",
    "            fits.append(name)\n",
    "    return sorted(fits)"
   ]
  },
  {
   "cell_type": "code",
   "execution_count": null,
   "metadata": {},
   "outputs": [],
   "source": [
    "where = input()\n",
    "companies = input().split('; ')\n",
    "fits = []\n",
    "for entry in companies:\n",
    "    name, cities = entry.split(': ')\n",
    "    if where in cities.split(','):\n",
    "        fits.append(name)\n",
    "print(sorted(fits), sep='; ')"
   ]
  },
  {
   "cell_type": "code",
   "execution_count": 27,
   "metadata": {},
   "outputs": [
    {
     "ename": "UnboundLocalError",
     "evalue": "cannot access local variable 'name' where it is not associated with a value",
     "output_type": "error",
     "traceback": [
      "\u001b[1;31m---------------------------------------------------------------------------\u001b[0m",
      "\u001b[1;31mUnboundLocalError\u001b[0m                         Traceback (most recent call last)",
      "Cell \u001b[1;32mIn[27], line 39\u001b[0m\n\u001b[0;32m     37\u001b[0m input_data \u001b[38;5;241m=\u001b[39m \u001b[38;5;124m\"\u001b[39m\u001b[38;5;124mОмск\u001b[39m\u001b[38;5;130;01m\\n\u001b[39;00m\u001b[38;5;124mГрузовичкоф: Пермь, Казань, Самара, Омск\u001b[39m\u001b[38;5;130;01m\\n\u001b[39;00m\u001b[38;5;124mОткрытие: Москва, Иркутск, Киров\u001b[39m\u001b[38;5;130;01m\\n\u001b[39;00m\u001b[38;5;124mМы быстрее!: Владивосток, Омск, Иркутск\u001b[39m\u001b[38;5;130;01m\\n\u001b[39;00m\u001b[38;5;124mГрузик: Омск\u001b[39m\u001b[38;5;130;01m\\n\u001b[39;00m\u001b[38;5;124m\"\u001b[39m\n\u001b[0;32m     38\u001b[0m expected_output \u001b[38;5;241m=\u001b[39m \u001b[38;5;124m\"\u001b[39m\u001b[38;5;124mГрузовичкоф. Грузик. Мы быстрее!\u001b[39m\u001b[38;5;124m\"\u001b[39m\n\u001b[1;32m---> 39\u001b[0m \u001b[43mrun_test\u001b[49m\u001b[43m(\u001b[49m\u001b[43minput_data\u001b[49m\u001b[43m,\u001b[49m\u001b[43m \u001b[49m\u001b[43mexpected_output\u001b[49m\u001b[43m)\u001b[49m\n\u001b[0;32m     41\u001b[0m \u001b[38;5;66;03m# Тест 2\u001b[39;00m\n\u001b[0;32m     42\u001b[0m input_data \u001b[38;5;241m=\u001b[39m \u001b[38;5;124m\"\u001b[39m\u001b[38;5;124mМосква\u001b[39m\u001b[38;5;130;01m\\n\u001b[39;00m\u001b[38;5;124mГрузовичкоф: Пермь, Казань, Самара, Омск\u001b[39m\u001b[38;5;130;01m\\n\u001b[39;00m\u001b[38;5;124mОткрытие: Москва, Иркутск, Киров\u001b[39m\u001b[38;5;130;01m\\n\u001b[39;00m\u001b[38;5;124mМы быстрее!: Владивосток, Омск, Иркутск\u001b[39m\u001b[38;5;130;01m\\n\u001b[39;00m\u001b[38;5;124mГрузик: Омск\u001b[39m\u001b[38;5;130;01m\\n\u001b[39;00m\u001b[38;5;124m\"\u001b[39m\n",
      "Cell \u001b[1;32mIn[27], line 15\u001b[0m, in \u001b[0;36mrun_test\u001b[1;34m(input_data, expected_output)\u001b[0m\n\u001b[0;32m     12\u001b[0m sys\u001b[38;5;241m.\u001b[39mstdout \u001b[38;5;241m=\u001b[39m StringIO()\n\u001b[0;32m     14\u001b[0m \u001b[38;5;66;03m# Запускаем программу\u001b[39;00m\n\u001b[1;32m---> 15\u001b[0m \u001b[43mmain\u001b[49m\u001b[43m(\u001b[49m\u001b[43m)\u001b[49m\n\u001b[0;32m     17\u001b[0m \u001b[38;5;66;03m# Получаем результат\u001b[39;00m\n\u001b[0;32m     18\u001b[0m output \u001b[38;5;241m=\u001b[39m sys\u001b[38;5;241m.\u001b[39mstdout\u001b[38;5;241m.\u001b[39mgetvalue()\u001b[38;5;241m.\u001b[39mstrip()\n",
      "Cell \u001b[1;32mIn[27], line 34\u001b[0m, in \u001b[0;36mmain\u001b[1;34m()\u001b[0m\n\u001b[0;32m     32\u001b[0m     \u001b[38;5;28;01mif\u001b[39;00m city \u001b[38;5;129;01min\u001b[39;00m town:\n\u001b[0;32m     33\u001b[0m         res\u001b[38;5;241m.\u001b[39mappend(name)\n\u001b[1;32m---> 34\u001b[0m \u001b[38;5;28mprint\u001b[39m(\u001b[38;5;124m\"\u001b[39m\u001b[38;5;124m, \u001b[39m\u001b[38;5;124m\"\u001b[39m\u001b[38;5;241m.\u001b[39mjoin(\u001b[38;5;28msorted\u001b[39m(\u001b[43mname\u001b[49m)))\n",
      "\u001b[1;31mUnboundLocalError\u001b[0m: cannot access local variable 'name' where it is not associated with a value"
     ]
    }
   ],
   "source": [
    "import sys\n",
    "from io import StringIO\n",
    "\n",
    "def run_test(input_data, expected_output):\n",
    "    # Сохраняем оригинальные stdin и stdout\n",
    "    original_stdin = sys.stdin\n",
    "    original_stdout = sys.stdout\n",
    "\n",
    "    try:\n",
    "        # Подменяем stdin и stdout\n",
    "        sys.stdin = StringIO(input_data)\n",
    "        sys.stdout = StringIO()\n",
    "\n",
    "        # Запускаем программу\n",
    "        main()\n",
    "\n",
    "        # Получаем результат\n",
    "        output = sys.stdout.getvalue().strip()\n",
    "        assert output == expected_output, f'Expected: \"{expected_output}\", but got: \"{output}\"'\n",
    "\n",
    "    finally:\n",
    "        # Восстанавливаем оригинальные stdin и stdout\n",
    "        sys.stdin = original_stdin\n",
    "        sys.stdout = original_stdout\n",
    "\n",
    "def main():\n",
    "    city = input()\n",
    "    info = input().split()\n",
    "    res = []\n",
    "    for i in info:\n",
    "        name, town = i.split(\": \")\n",
    "        if city in town:\n",
    "            res.append(name)\n",
    "    print(\", \".join(sorted(name)))\n",
    "\n",
    "# Тест 1\n",
    "input_data = \"Омск\\nГрузовичкоф: Пермь, Казань, Самара, Омск\\nОткрытие: Москва, Иркутск, Киров\\nМы быстрее!: Владивосток, Омск, Иркутск\\nГрузик: Омск\\n\"\n",
    "expected_output = \"Грузовичкоф. Грузик. Мы быстрее!\"\n",
    "run_test(input_data, expected_output)\n",
    "\n",
    "# Тест 2\n",
    "input_data = \"Москва\\nГрузовичкоф: Пермь, Казань, Самара, Омск\\nОткрытие: Москва, Иркутск, Киров\\nМы быстрее!: Владивосток, Омск, Иркутск\\nГрузик: Омск\\n\"\n",
    "expected_output = \"Открытие\"\n",
    "run_test(input_data, expected_output)\n",
    "\n",
    "# Тест 3\n",
    "input_data = \"Иркутск\\nГрузовичкоф: Пермь, Казань, Самара, Омск\\nОткрытие: Москва, Иркутск, Киров\\nМы быстрее!: Владивосток, Омск, Иркутск\\nГрузик: Омск\\n\"\n",
    "expected_output = \"Мы быстрее!. Открытие\"\n",
    "run_test(input_data, expected_output)\n",
    "\n",
    "# Тест 4\n",
    "input_data = \"Казань\\nГрузовичкоф: Пермь, Казань, Самара, Омск\\nОткрытие: Москва, Иркутск, Киров\\nМы быстрее!: Владивосток, Омск, Иркутск\\nГрузик: Омск\\n\"\n",
    "expected_output = \"Грузовичкоф\"\n",
    "run_test(input_data, expected_output)"
   ]
  },
  {
   "cell_type": "code",
   "execution_count": 30,
   "metadata": {},
   "outputs": [
    {
     "ename": "ValueError",
     "evalue": "not enough values to unpack (expected 2, got 1)",
     "output_type": "error",
     "traceback": [
      "\u001b[1;31m---------------------------------------------------------------------------\u001b[0m",
      "\u001b[1;31mValueError\u001b[0m                                Traceback (most recent call last)",
      "Cell \u001b[1;32mIn[30], line 5\u001b[0m\n\u001b[0;32m      3\u001b[0m res \u001b[38;5;241m=\u001b[39m []\n\u001b[0;32m      4\u001b[0m \u001b[38;5;28;01mfor\u001b[39;00m i \u001b[38;5;129;01min\u001b[39;00m info:\n\u001b[1;32m----> 5\u001b[0m     name, town \u001b[38;5;241m=\u001b[39m i\u001b[38;5;241m.\u001b[39msplit(\u001b[38;5;124m\"\u001b[39m\u001b[38;5;124m: \u001b[39m\u001b[38;5;124m\"\u001b[39m)\n\u001b[0;32m      6\u001b[0m     \u001b[38;5;28;01mif\u001b[39;00m city \u001b[38;5;129;01min\u001b[39;00m town:\n\u001b[0;32m      7\u001b[0m         res\u001b[38;5;241m.\u001b[39mappend(name)\n",
      "\u001b[1;31mValueError\u001b[0m: not enough values to unpack (expected 2, got 1)"
     ]
    }
   ],
   "source": [
    "city = input()\n",
    "info = input().split()\n",
    "res = []\n",
    "for i in info:\n",
    "    name, town = i.split(\": \")\n",
    "    if city in town:\n",
    "        res.append(name)\n",
    "print(\", \".join(sorted(name)))"
   ]
  },
  {
   "cell_type": "code",
   "execution_count": null,
   "metadata": {},
   "outputs": [],
   "source": []
  }
 ],
 "metadata": {
  "kernelspec": {
   "display_name": ".venv",
   "language": "python",
   "name": "python3"
  },
  "language_info": {
   "codemirror_mode": {
    "name": "ipython",
    "version": 3
   },
   "file_extension": ".py",
   "mimetype": "text/x-python",
   "name": "python",
   "nbconvert_exporter": "python",
   "pygments_lexer": "ipython3",
   "version": "3.11.4"
  }
 },
 "nbformat": 4,
 "nbformat_minor": 2
}
